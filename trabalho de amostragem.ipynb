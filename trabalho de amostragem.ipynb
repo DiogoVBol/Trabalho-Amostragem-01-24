{
 "cells": [
  {
   "cell_type": "markdown",
   "metadata": {},
   "source": [
    "## <span style=\"color:red\"><p style=\"text-align: center;\">*Trabalho de Amostragem*</p></span>"
   ]
  },
  {
   "cell_type": "markdown",
   "metadata": {},
   "source": [
    "### 1) Formular objetivo de pesquisa para estimar um parâmetro desconhecido"
   ]
  },
  {
   "cell_type": "markdown",
   "metadata": {},
   "source": [
    "### 1.1) Definir: Descrever claramente o objetivo do estudo, definindo que fará uma inferência por estimação."
   ]
  },
  {
   "cell_type": "markdown",
   "metadata": {},
   "source": [
    "- Objetivo de pesquisa: Qual a média do valor de venda de produtos por estado do brasil?\n",
    "\n",
    "- O objetivo deste estudo é estimar a média do valor de venda de produtos por estado no Brasil. Esta inferência será realizada por meio da estimação pontual e intervalar da média, utilizando dados coletados de vendas em diferentes estados. "
   ]
  },
  {
   "cell_type": "markdown",
   "metadata": {},
   "source": [
    "### 2) Simular dados de uma população. Retirar uma amostra por amostragem aleatória simples (calcular o tamanho amostral)"
   ]
  },
  {
   "cell_type": "markdown",
   "metadata": {},
   "source": [
    "#### 2.1) Definir: corretamente as populações alvo e de pesquisa, descrever o plano amostral, "
   ]
  },
  {
   "cell_type": "markdown",
   "metadata": {},
   "source": [
    "- População Alvo: Todos os Clientes da OLIST\n",
    "\n",
    "- População de Pesquisa: Clientes que compraram no período de 2016 a 2018\n",
    "\n",
    "- Plano amostral: Amostragem Aleatória Simples\n",
    "\n",
    "- Tamanho da Amostra:"
   ]
  },
  {
   "cell_type": "markdown",
   "metadata": {},
   "source": [
    "### 3) Estimar o parâmetro populacional por meio da amostra"
   ]
  },
  {
   "cell_type": "markdown",
   "metadata": {},
   "source": [
    "#### 3.1) Definir:\n",
    "\n",
    "- Especificou corretamente a característica de interesse, Definiu o nível de significância e citou os softwares utilizados. \n",
    "\n",
    "Média do valor gasto por estado. Nível de significância 10%. Usa Python\n",
    "\n",
    "- Apresentou uma análise descritiva da característica de interesse, entre elas a estimativa pontual e o intervalo de confiança, se for o caso. "
   ]
  },
  {
   "cell_type": "markdown",
   "metadata": {},
   "source": [
    "### 4) Construir relatório"
   ]
  }
 ],
 "metadata": {
  "language_info": {
   "name": "python"
  }
 },
 "nbformat": 4,
 "nbformat_minor": 2
}
